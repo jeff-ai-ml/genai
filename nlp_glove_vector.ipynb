{
  "nbformat": 4,
  "nbformat_minor": 0,
  "metadata": {
    "colab": {
      "provenance": [],
      "include_colab_link": true
    },
    "kernelspec": {
      "name": "python3",
      "display_name": "Python 3"
    },
    "language_info": {
      "name": "python"
    }
  },
  "cells": [
    {
      "cell_type": "markdown",
      "metadata": {
        "id": "view-in-github",
        "colab_type": "text"
      },
      "source": [
        "<a href=\"https://colab.research.google.com/github/jeff-ai-ml/genai/blob/main/nlp_glove_vector.ipynb\" target=\"_parent\"><img src=\"https://colab.research.google.com/assets/colab-badge.svg\" alt=\"Open In Colab\"/></a>"
      ]
    },
    {
      "cell_type": "code",
      "source": [
        "! pip install gensim"
      ],
      "metadata": {
        "colab": {
          "base_uri": "https://localhost:8080/",
          "height": 637
        },
        "id": "plIXeWKGFI1m",
        "outputId": "3492a2ec-576e-4cc7-c407-acd4b275867d"
      },
      "execution_count": 3,
      "outputs": [
        {
          "output_type": "stream",
          "name": "stdout",
          "text": [
            "Collecting gensim\n",
            "  Downloading gensim-4.3.3-cp311-cp311-manylinux_2_17_x86_64.manylinux2014_x86_64.whl.metadata (8.1 kB)\n",
            "Collecting numpy<2.0,>=1.18.5 (from gensim)\n",
            "  Downloading numpy-1.26.4-cp311-cp311-manylinux_2_17_x86_64.manylinux2014_x86_64.whl.metadata (61 kB)\n",
            "\u001b[2K     \u001b[90m━━━━━━━━━━━━━━━━━━━━━━━━━━━━━━━━━━━━━━━━\u001b[0m \u001b[32m61.0/61.0 kB\u001b[0m \u001b[31m2.7 MB/s\u001b[0m eta \u001b[36m0:00:00\u001b[0m\n",
            "\u001b[?25hCollecting scipy<1.14.0,>=1.7.0 (from gensim)\n",
            "  Downloading scipy-1.13.1-cp311-cp311-manylinux_2_17_x86_64.manylinux2014_x86_64.whl.metadata (60 kB)\n",
            "\u001b[2K     \u001b[90m━━━━━━━━━━━━━━━━━━━━━━━━━━━━━━━━━━━━━━━━\u001b[0m \u001b[32m60.6/60.6 kB\u001b[0m \u001b[31m2.8 MB/s\u001b[0m eta \u001b[36m0:00:00\u001b[0m\n",
            "\u001b[?25hRequirement already satisfied: smart-open>=1.8.1 in /usr/local/lib/python3.11/dist-packages (from gensim) (7.3.0.post1)\n",
            "Requirement already satisfied: wrapt in /usr/local/lib/python3.11/dist-packages (from smart-open>=1.8.1->gensim) (1.17.2)\n",
            "Downloading gensim-4.3.3-cp311-cp311-manylinux_2_17_x86_64.manylinux2014_x86_64.whl (26.7 MB)\n",
            "\u001b[2K   \u001b[90m━━━━━━━━━━━━━━━━━━━━━━━━━━━━━━━━━━━━━━━━\u001b[0m \u001b[32m26.7/26.7 MB\u001b[0m \u001b[31m70.7 MB/s\u001b[0m eta \u001b[36m0:00:00\u001b[0m\n",
            "\u001b[?25hDownloading numpy-1.26.4-cp311-cp311-manylinux_2_17_x86_64.manylinux2014_x86_64.whl (18.3 MB)\n",
            "\u001b[2K   \u001b[90m━━━━━━━━━━━━━━━━━━━━━━━━━━━━━━━━━━━━━━━━\u001b[0m \u001b[32m18.3/18.3 MB\u001b[0m \u001b[31m102.3 MB/s\u001b[0m eta \u001b[36m0:00:00\u001b[0m\n",
            "\u001b[?25hDownloading scipy-1.13.1-cp311-cp311-manylinux_2_17_x86_64.manylinux2014_x86_64.whl (38.6 MB)\n",
            "\u001b[2K   \u001b[90m━━━━━━━━━━━━━━━━━━━━━━━━━━━━━━━━━━━━━━━━\u001b[0m \u001b[32m38.6/38.6 MB\u001b[0m \u001b[31m16.6 MB/s\u001b[0m eta \u001b[36m0:00:00\u001b[0m\n",
            "\u001b[?25hInstalling collected packages: numpy, scipy, gensim\n",
            "  Attempting uninstall: numpy\n",
            "    Found existing installation: numpy 2.0.2\n",
            "    Uninstalling numpy-2.0.2:\n",
            "      Successfully uninstalled numpy-2.0.2\n",
            "  Attempting uninstall: scipy\n",
            "    Found existing installation: scipy 1.15.3\n",
            "    Uninstalling scipy-1.15.3:\n",
            "      Successfully uninstalled scipy-1.15.3\n",
            "\u001b[31mERROR: pip's dependency resolver does not currently take into account all the packages that are installed. This behaviour is the source of the following dependency conflicts.\n",
            "thinc 8.3.6 requires numpy<3.0.0,>=2.0.0, but you have numpy 1.26.4 which is incompatible.\n",
            "opencv-python-headless 4.12.0.88 requires numpy<2.3.0,>=2; python_version >= \"3.9\", but you have numpy 1.26.4 which is incompatible.\n",
            "tsfresh 0.21.0 requires scipy>=1.14.0; python_version >= \"3.10\", but you have scipy 1.13.1 which is incompatible.\u001b[0m\u001b[31m\n",
            "\u001b[0mSuccessfully installed gensim-4.3.3 numpy-1.26.4 scipy-1.13.1\n"
          ]
        },
        {
          "output_type": "display_data",
          "data": {
            "application/vnd.colab-display-data+json": {
              "pip_warning": {
                "packages": [
                  "numpy"
                ]
              },
              "id": "a75c89b5ebab458c9fa1b0e018f8df72"
            }
          },
          "metadata": {}
        }
      ]
    },
    {
      "cell_type": "code",
      "execution_count": 1,
      "metadata": {
        "colab": {
          "base_uri": "https://localhost:8080/"
        },
        "id": "67Iwbmo4kUUZ",
        "outputId": "463ff957-7b5c-499d-ca69-b144b176c434"
      },
      "outputs": [
        {
          "output_type": "stream",
          "name": "stdout",
          "text": [
            "[==================================================] 100.0% 128.1/128.1MB downloaded\n",
            "Embedding for 'example':\n",
            "[-0.12617    0.61724    0.22581    0.39868    0.16111    0.1523\n",
            " -0.14715   -0.29447   -0.27348   -0.13753   -0.20898   -0.73436\n",
            "  0.14144    0.15048    0.09179    0.018613   0.22539    0.15979\n",
            " -0.16935    0.42716    0.042284  -0.3477    -0.11413    0.12222\n",
            " -0.025027  -0.20805   -0.067264  -0.2956    -0.30807   -0.32903\n",
            "  0.19059    0.77141   -0.19332   -0.31069    0.26745    0.32231\n",
            "  0.2065     0.10497    0.49425   -0.38322   -0.12802   -0.069906\n",
            " -0.14828    0.085369  -0.18141    0.14688    0.60968   -0.21131\n",
            " -0.29148   -0.52773    0.59508    0.017369   0.15342    0.81925\n",
            " -0.20643   -2.0378    -0.11884   -0.16826    1.5288     0.15756\n",
            " -0.4994     0.39305    0.12672   -0.10968    1.3671    -0.21006\n",
            "  0.15684    0.0063801  0.43836   -0.18765   -0.29088    0.18619\n",
            "  0.085402   0.13985    0.40794   -0.14811    0.26702   -0.19142\n",
            " -0.6189     0.0091217  0.34971   -0.24079   -0.52476   -0.25071\n",
            " -1.5681     0.22101    0.046796  -0.62616   -0.043358  -0.42865\n",
            " -0.0057843 -0.22611    0.074171   0.091597  -0.40751   -0.08359\n",
            " -0.48413   -1.0718     0.52827    0.058813 ]\n",
            "Dimension: 100\n",
            "Type: <class 'numpy.ndarray'>\n",
            "Shape: (100,)\n"
          ]
        }
      ],
      "source": [
        "import gensim.downloader as api\n",
        "\n",
        "# Download and load the pre-trained GloVe model\n",
        "model = api.load(\"glove-wiki-gigaword-100\")  # You can choose different dimensions like 50, 100, 200, 300\n",
        "\n",
        "# Example usage: get the embedding for a word\n",
        "word = 'example'\n",
        "embedding = model[word]\n",
        "\n",
        "print(f\"Embedding for '{word}':\\n{embedding}\")\n",
        "print(\"Dimension:\", len(embedding))\n",
        "print(\"Type:\", type(embedding))\n",
        "print(\"Shape:\", embedding.shape)\n"
      ]
    },
    {
      "cell_type": "code",
      "source": [
        "model.most_similar('usa')"
      ],
      "metadata": {
        "colab": {
          "base_uri": "https://localhost:8080/"
        },
        "id": "H6ubQYg6Dm5i",
        "outputId": "fca33444-3390-4131-bd01-1380f29d5bfc"
      },
      "execution_count": 2,
      "outputs": [
        {
          "output_type": "execute_result",
          "data": {
            "text/plain": [
              "[('canada', 0.6544384956359863),\n",
              " ('america', 0.645224392414093),\n",
              " ('u.s.a.', 0.6184033751487732),\n",
              " ('united', 0.6017189621925354),\n",
              " ('states', 0.5970699191093445),\n",
              " ('australia', 0.5838716626167297),\n",
              " ('world', 0.5590084195137024),\n",
              " ('2010', 0.5580702424049377),\n",
              " ('2012', 0.5504006743431091),\n",
              " ('davis', 0.5464468002319336)]"
            ]
          },
          "metadata": {},
          "execution_count": 2
        }
      ]
    },
    {
      "cell_type": "code",
      "source": [
        "model['king']"
      ],
      "metadata": {
        "colab": {
          "base_uri": "https://localhost:8080/"
        },
        "id": "asaJcWUvF5fn",
        "outputId": "a95a58e7-8e07-40d9-e130-740798eb30b3"
      },
      "execution_count": 3,
      "outputs": [
        {
          "output_type": "execute_result",
          "data": {
            "text/plain": [
              "array([-0.32307 , -0.87616 ,  0.21977 ,  0.25268 ,  0.22976 ,  0.7388  ,\n",
              "       -0.37954 , -0.35307 , -0.84369 , -1.1113  , -0.30266 ,  0.33178 ,\n",
              "       -0.25113 ,  0.30448 , -0.077491, -0.89815 ,  0.092496, -1.1407  ,\n",
              "       -0.58324 ,  0.66869 , -0.23122 , -0.95855 ,  0.28262 , -0.078848,\n",
              "        0.75315 ,  0.26584 ,  0.3422  , -0.33949 ,  0.95608 ,  0.065641,\n",
              "        0.45747 ,  0.39835 ,  0.57965 ,  0.39267 , -0.21851 ,  0.58795 ,\n",
              "       -0.55999 ,  0.63368 , -0.043983, -0.68731 , -0.37841 ,  0.38026 ,\n",
              "        0.61641 , -0.88269 , -0.12346 , -0.37928 , -0.38318 ,  0.23868 ,\n",
              "        0.6685  , -0.43321 , -0.11065 ,  0.081723,  1.1569  ,  0.78958 ,\n",
              "       -0.21223 , -2.3211  , -0.67806 ,  0.44561 ,  0.65707 ,  0.1045  ,\n",
              "        0.46217 ,  0.19912 ,  0.25802 ,  0.057194,  0.53443 , -0.43133 ,\n",
              "       -0.34311 ,  0.59789 , -0.58417 ,  0.068995,  0.23944 , -0.85181 ,\n",
              "        0.30379 , -0.34177 , -0.25746 , -0.031101, -0.16285 ,  0.45169 ,\n",
              "       -0.91627 ,  0.64521 ,  0.73281 , -0.22752 ,  0.30226 ,  0.044801,\n",
              "       -0.83741 ,  0.55006 , -0.52506 , -1.7357  ,  0.4751  , -0.70487 ,\n",
              "        0.056939, -0.7132  ,  0.089623,  0.41394 , -1.3363  , -0.61915 ,\n",
              "       -0.33089 , -0.52881 ,  0.16483 , -0.98878 ], dtype=float32)"
            ]
          },
          "metadata": {},
          "execution_count": 3
        }
      ]
    },
    {
      "cell_type": "code",
      "source": [
        "model['president']"
      ],
      "metadata": {
        "colab": {
          "base_uri": "https://localhost:8080/"
        },
        "id": "ki-xujVGF5ve",
        "outputId": "d8c4f9df-7d62-4d44-f76f-f1b1c78cdd2c"
      },
      "execution_count": 6,
      "outputs": [
        {
          "output_type": "execute_result",
          "data": {
            "text/plain": [
              "array([-0.064549, -0.13812 ,  0.50017 ,  0.41434 ,  0.45832 , -0.048331,\n",
              "       -0.21651 ,  0.34987 , -0.83235 , -0.62282 , -0.40099 , -0.31978 ,\n",
              "        0.42928 , -0.026035, -0.16171 , -0.32513 ,  0.77604 , -0.39852 ,\n",
              "       -0.67013 , -0.55876 , -0.39863 , -0.28143 ,  0.68614 ,  0.29229 ,\n",
              "       -0.7146  ,  0.36995 , -0.45309 , -0.23193 ,  0.76916 , -0.031589,\n",
              "        1.0603  ,  1.5446  , -0.13272 ,  0.33701 , -0.97561 ,  0.73617 ,\n",
              "        0.60841 ,  0.558   , -0.39274 ,  0.1121  , -1.0474  , -0.03692 ,\n",
              "        0.99908 , -0.044925, -0.41186 ,  0.19605 ,  0.093281, -0.59623 ,\n",
              "       -0.60765 , -0.4742  , -0.30162 , -0.70128 , -0.20055 ,  0.99519 ,\n",
              "        0.20088 , -2.5636  , -0.14627 ,  0.77824 ,  1.4913  ,  0.29724 ,\n",
              "       -0.12084 , -0.060082,  0.079881, -0.38348 ,  0.41371 , -0.41284 ,\n",
              "        0.61702 ,  1.1316  , -0.047434,  0.2848  ,  0.57694 , -0.45501 ,\n",
              "       -0.76359 , -1.1659  ,  0.068946, -0.22498 ,  0.18691 ,  0.64142 ,\n",
              "       -1.7505  , -0.091248,  0.85848 , -0.52203 , -0.38122 , -0.43335 ,\n",
              "       -0.73706 , -0.51609 , -0.13884 ,  0.65128 ,  0.66747 , -2.1334  ,\n",
              "        0.93429 ,  0.24036 , -0.43398 ,  0.86494 , -0.78319 , -0.032875,\n",
              "       -0.19761 , -0.23146 , -0.20256 ,  0.1193  ], dtype=float32)"
            ]
          },
          "metadata": {},
          "execution_count": 6
        }
      ]
    },
    {
      "cell_type": "code",
      "source": [
        "model['cake']"
      ],
      "metadata": {
        "colab": {
          "base_uri": "https://localhost:8080/"
        },
        "id": "-1wS-vqJF56a",
        "outputId": "231033cc-2478-4e7b-833d-f8d64869d708"
      },
      "execution_count": 7,
      "outputs": [
        {
          "output_type": "execute_result",
          "data": {
            "text/plain": [
              "array([-0.94318 ,  0.59859 , -0.29723 , -0.18531 , -0.15003 ,  0.59964 ,\n",
              "        0.86469 , -0.043638,  0.045402,  0.20723 ,  0.47813 ,  0.10392 ,\n",
              "        0.18468 ,  0.67267 , -0.10693 ,  0.19472 ,  0.50381 , -0.20807 ,\n",
              "       -0.029778, -0.57507 , -0.76517 ,  0.14342 , -0.041807, -0.36493 ,\n",
              "        0.12316 ,  1.2181  , -0.065194, -0.20684 , -0.24247 , -1.0874  ,\n",
              "       -0.31184 ,  0.60132 ,  0.72613 , -0.50184 ,  0.1892  ,  0.90248 ,\n",
              "        0.048367,  0.14214 ,  0.23768 , -1.3184  , -0.082652, -0.76125 ,\n",
              "        0.17832 , -0.46196 ,  0.13675 , -0.34033 , -1.1891  ,  0.021234,\n",
              "        0.42358 ,  0.069305, -0.36826 , -0.39163 ,  0.1022  ,  1.0032  ,\n",
              "       -1.1135  , -1.2909  ,  0.085113,  0.68631 ,  0.50096 ,  0.13337 ,\n",
              "        0.25976 ,  0.92707 , -0.3682  , -0.4451  , -0.048682, -0.81138 ,\n",
              "        0.51595 , -0.10593 , -0.12701 , -1.4975  , -0.41769 ,  0.41447 ,\n",
              "        0.2363  ,  0.69452 ,  0.29314 ,  0.858   ,  0.31042 , -1.0194  ,\n",
              "        0.90039 ,  0.92778 , -0.18078 , -0.3683  , -0.45321 ,  0.55825 ,\n",
              "       -0.18856 , -0.93121 ,  0.5542  , -0.31642 ,  0.57753 , -0.39559 ,\n",
              "        0.049066,  0.30466 , -0.59203 , -0.34942 , -0.41821 , -1.3929  ,\n",
              "        0.74163 , -0.48108 ,  0.48195 ,  0.01819 ], dtype=float32)"
            ]
          },
          "metadata": {},
          "execution_count": 7
        }
      ]
    },
    {
      "cell_type": "code",
      "source": [
        "model['bread']"
      ],
      "metadata": {
        "colab": {
          "base_uri": "https://localhost:8080/"
        },
        "id": "awVkzVAMGZHn",
        "outputId": "09328bed-cfad-4a8f-f8c8-a70137bdb580"
      },
      "execution_count": 8,
      "outputs": [
        {
          "output_type": "execute_result",
          "data": {
            "text/plain": [
              "array([-0.66146  ,  0.94335  , -0.72214  ,  0.17403  , -0.42524  ,\n",
              "        0.36303  ,  1.0135   , -0.14802  ,  0.25817  , -0.20326  ,\n",
              "       -0.64338  ,  0.16632  ,  0.61518  ,  1.397    , -0.094506 ,\n",
              "        0.0041843, -0.18976  , -0.55421  , -0.39371  , -0.22501  ,\n",
              "       -0.34643  ,  0.32076  ,  0.34395  , -0.7034   ,  0.23932  ,\n",
              "        0.69951  , -0.16461  , -0.31819  , -0.34034  , -0.44906  ,\n",
              "       -0.069667 ,  0.35348  ,  0.17498  , -0.95057  , -0.2209   ,\n",
              "        1.0647   ,  0.23231  ,  0.32569  ,  0.47662  , -1.1206   ,\n",
              "        0.28168  , -0.75172  , -0.54654  , -0.66337  ,  0.34804  ,\n",
              "       -0.69058  , -0.77092  , -0.40167  , -0.069351 , -0.049238 ,\n",
              "       -0.39351  ,  0.16735  , -0.14512  ,  1.0083   , -1.0608   ,\n",
              "       -0.87314  , -0.29339  ,  0.68278  ,  0.61634  , -0.088844 ,\n",
              "        0.88094  ,  0.099809 , -0.27161  , -0.58026  ,  0.50364  ,\n",
              "       -0.93814  ,  0.67576  , -0.43124  , -0.10517  , -1.2404   ,\n",
              "       -0.74353  ,  0.28637  ,  0.29012  ,  0.89377  ,  0.67406  ,\n",
              "        0.86422  , -0.30693  , -0.14718  ,  0.078353 ,  0.74013  ,\n",
              "        0.32658  , -0.052579 , -1.1665   ,  0.87079  , -0.69402  ,\n",
              "       -0.75977  , -0.37164  , -0.11887  ,  0.18551  ,  0.041883 ,\n",
              "        0.59352  ,  0.30519  , -0.54819  , -0.29424  , -1.4912   ,\n",
              "       -1.6548   ,  0.98982  ,  0.27325  ,  1.009    ,  0.94544  ],\n",
              "      dtype=float32)"
            ]
          },
          "metadata": {},
          "execution_count": 8
        }
      ]
    },
    {
      "cell_type": "code",
      "source": [
        "model['eagle']"
      ],
      "metadata": {
        "colab": {
          "base_uri": "https://localhost:8080/"
        },
        "id": "QRfE7AiSGb_m",
        "outputId": "4ac484e2-dad5-45be-a581-16498d8ca6d4"
      },
      "execution_count": 11,
      "outputs": [
        {
          "output_type": "execute_result",
          "data": {
            "text/plain": [
              "array([ 0.14804  , -0.73517  ,  0.18489  , -0.1354   ,  0.44248  ,\n",
              "       -0.21856  ,  0.13677  , -0.41135  , -1.0976   , -0.61095  ,\n",
              "        0.12922  ,  0.30442  ,  0.13611  ,  0.30299  ,  0.21108  ,\n",
              "        0.014528 ,  0.60151  , -0.06086  , -0.049744 , -0.063286 ,\n",
              "       -0.040335 ,  0.52373  , -1.2209   ,  0.53016  ,  0.93073  ,\n",
              "        0.72648  , -0.45498  , -0.10123  , -0.27131  , -0.4825   ,\n",
              "       -0.3315   ,  0.32011  ,  0.40652  ,  0.032205 ,  0.60969  ,\n",
              "        0.10925  , -0.89431  ,  0.52856  ,  1.1142   ,  0.46922  ,\n",
              "       -0.47274  ,  0.52841  , -0.49492  ,  0.77231  ,  0.13459  ,\n",
              "        0.24898  ,  0.31614  ,  0.25661  , -0.66305  , -0.12503  ,\n",
              "       -1.3364   ,  0.17884  , -0.32433  ,  0.56577  , -0.25321  ,\n",
              "       -1.5523   ,  0.093222 ,  0.021419 ,  1.7271   ,  0.24759  ,\n",
              "        0.44665  ,  0.71193  ,  0.46687  ,  0.96065  , -0.33141  ,\n",
              "       -0.73373  , -0.31425  ,  0.07283  , -0.51399  ,  0.30981  ,\n",
              "       -0.28211  , -0.23631  , -0.027368 ,  0.049798 ,  0.18584  ,\n",
              "       -0.099715 , -0.24333  ,  0.49574  , -0.67869  ,  0.35636  ,\n",
              "       -0.21044  , -0.2553   ,  0.20357  ,  0.0064801,  0.31031  ,\n",
              "       -0.74249  ,  0.41482  , -0.48117  ,  1.1137   ,  1.2339   ,\n",
              "       -0.27955  , -0.89325  ,  0.12014  , -0.021204 , -1.2009   ,\n",
              "       -0.30602  , -0.53999  , -0.74363  ,  0.32428  , -0.30826  ],\n",
              "      dtype=float32)"
            ]
          },
          "metadata": {},
          "execution_count": 11
        }
      ]
    },
    {
      "cell_type": "code",
      "source": [
        "model['kite']"
      ],
      "metadata": {
        "colab": {
          "base_uri": "https://localhost:8080/"
        },
        "id": "R08U8IwxGiK2",
        "outputId": "5c4ddfab-af23-477a-be2a-52c6ff29cf1b"
      },
      "execution_count": 12,
      "outputs": [
        {
          "output_type": "execute_result",
          "data": {
            "text/plain": [
              "array([-0.44415  ,  0.33178  , -0.39526  , -1.0643   ,  0.47886  ,\n",
              "       -0.13532  ,  0.36438  , -0.20594  , -1.0238   , -0.29116  ,\n",
              "       -0.5793   , -0.17532  ,  0.45521  ,  0.011077 , -0.11604  ,\n",
              "        0.13484  , -0.70744  ,  0.32154  ,  0.48667  , -0.0086517,\n",
              "       -0.081493 ,  0.52442  ,  0.58375  , -0.3252   ,  1.1649   ,\n",
              "        0.78541  , -0.56358  , -0.15583  ,  0.25293  , -0.94752  ,\n",
              "       -0.78586  ,  0.33027  ,  0.14607  ,  0.38629  ,  0.63705  ,\n",
              "        0.16138  , -0.5367   ,  1.2902   ,  0.47352  , -0.2135   ,\n",
              "       -1.1746   ,  0.33676  ,  0.06116  ,  0.56423  , -0.075322 ,\n",
              "       -0.072501 ,  0.044608 , -0.39044  ,  0.14793  , -0.11562  ,\n",
              "       -0.81937  , -0.012677 ,  0.17114  ,  0.050764 ,  0.31334  ,\n",
              "       -0.6734   ,  0.5076   ,  0.92459  ,  0.55925  , -0.017132 ,\n",
              "       -0.043266 ,  0.14368  ,  0.38599  ,  0.89214  , -0.46143  ,\n",
              "        0.3817   ,  0.38855  ,  0.4456   , -0.17059  ,  0.24055  ,\n",
              "       -0.86057  , -0.58088  ,  0.57459  ,  0.47492  , -0.15073  ,\n",
              "       -0.040061 ,  0.81952  ,  0.12481  , -0.39464  ,  0.60951  ,\n",
              "        0.034992 , -0.97852  ,  0.0061912,  0.15523  ,  0.14391  ,\n",
              "        0.14478  ,  0.1476   , -0.35915  ,  0.10866  ,  0.78932  ,\n",
              "       -0.81544  ,  0.27826  ,  0.41671  , -0.45823  ,  0.25833  ,\n",
              "       -0.25068  ,  0.2213   , -0.19078  , -0.23684  , -0.17029  ],\n",
              "      dtype=float32)"
            ]
          },
          "metadata": {},
          "execution_count": 12
        }
      ]
    },
    {
      "cell_type": "code",
      "source": [
        "model.most_similar('usa')"
      ],
      "metadata": {
        "colab": {
          "base_uri": "https://localhost:8080/"
        },
        "id": "lyhh-MjGGyme",
        "outputId": "0c5c9d89-d996-490a-b34f-c3fc7affa094"
      },
      "execution_count": 15,
      "outputs": [
        {
          "output_type": "execute_result",
          "data": {
            "text/plain": [
              "[('canada', 0.6544384956359863),\n",
              " ('america', 0.645224392414093),\n",
              " ('u.s.a.', 0.6184033751487732),\n",
              " ('united', 0.6017189621925354),\n",
              " ('states', 0.5970699191093445),\n",
              " ('australia', 0.5838716626167297),\n",
              " ('world', 0.5590084195137024),\n",
              " ('2010', 0.5580702424049377),\n",
              " ('2012', 0.5504006743431091),\n",
              " ('davis', 0.5464468002319336)]"
            ]
          },
          "metadata": {},
          "execution_count": 15
        }
      ]
    },
    {
      "cell_type": "code",
      "source": [
        "model.most_similar('cricket')"
      ],
      "metadata": {
        "colab": {
          "base_uri": "https://localhost:8080/"
        },
        "id": "z3_3WtipHzVK",
        "outputId": "aeb352fa-c300-4328-db77-065a673b6659"
      },
      "execution_count": 16,
      "outputs": [
        {
          "output_type": "execute_result",
          "data": {
            "text/plain": [
              "[('rugby', 0.7827098369598389),\n",
              " ('twenty20', 0.7362942099571228),\n",
              " ('england', 0.7173773646354675),\n",
              " ('indies', 0.715782105922699),\n",
              " ('cricketers', 0.7132172584533691),\n",
              " ('football', 0.6659637093544006),\n",
              " ('zealand', 0.6606222987174988),\n",
              " ('matches', 0.6509107351303101),\n",
              " ('bowling', 0.6504763960838318),\n",
              " ('wc2003-wis', 0.642265260219574)]"
            ]
          },
          "metadata": {},
          "execution_count": 16
        }
      ]
    },
    {
      "cell_type": "code",
      "source": [
        "model.most_similar(negative='cricket')"
      ],
      "metadata": {
        "colab": {
          "base_uri": "https://localhost:8080/"
        },
        "id": "WO8UJ750IDeu",
        "outputId": "cc83d4d5-19dd-4806-8572-e203b44b63bd"
      },
      "execution_count": 17,
      "outputs": [
        {
          "output_type": "execute_result",
          "data": {
            "text/plain": [
              "[('kjellberg', 0.5707957148551941),\n",
              " ('stanciu', 0.5363406538963318),\n",
              " ('korot', 0.5251068472862244),\n",
              " ('ihle', 0.5189671516418457),\n",
              " ('meiling', 0.5106919407844543),\n",
              " ('malevich', 0.5092998147010803),\n",
              " ('68.23', 0.5047351717948914),\n",
              " ('morawetz', 0.5020094513893127),\n",
              " ('kissi', 0.5018949508666992),\n",
              " ('jean-antoine', 0.5003271102905273)]"
            ]
          },
          "metadata": {},
          "execution_count": 17
        }
      ]
    },
    {
      "cell_type": "code",
      "source": [
        "result = model.most_similar(positive=['woman', 'king'] , negative=['man'])\n",
        "\n",
        "print(f\"{result[0]}\")"
      ],
      "metadata": {
        "colab": {
          "base_uri": "https://localhost:8080/"
        },
        "id": "EswdEnE2I8Zf",
        "outputId": "2981e4a2-4e06-446e-c536-1ad2dda36da0"
      },
      "execution_count": 23,
      "outputs": [
        {
          "output_type": "stream",
          "name": "stdout",
          "text": [
            "('queen', 0.7698540687561035)\n"
          ]
        }
      ]
    },
    {
      "cell_type": "code",
      "source": [],
      "metadata": {
        "id": "Vum2BCszJWdp"
      },
      "execution_count": null,
      "outputs": []
    }
  ]
}