{
  "nbformat": 4,
  "nbformat_minor": 0,
  "metadata": {
    "colab": {
      "provenance": [],
      "include_colab_link": true
    },
    "kernelspec": {
      "name": "python3",
      "display_name": "Python 3"
    },
    "language_info": {
      "name": "python"
    }
  },
  "cells": [
    {
      "cell_type": "markdown",
      "metadata": {
        "id": "view-in-github",
        "colab_type": "text"
      },
      "source": [
        "<a href=\"https://colab.research.google.com/github/jeff-ai-ml/genai/blob/main/list_of_openai_models_test.ipynb\" target=\"_parent\"><img src=\"https://colab.research.google.com/assets/colab-badge.svg\" alt=\"Open In Colab\"/></a>"
      ]
    },
    {
      "cell_type": "code",
      "source": [
        "!pip install openai --use-deprecated=legacy-resolver"
      ],
      "metadata": {
        "colab": {
          "base_uri": "https://localhost:8080/"
        },
        "id": "pyTIQFDqRH7y",
        "outputId": "6fcdbb53-7b0e-4aad-e24e-cbe39f09a7c9"
      },
      "execution_count": null,
      "outputs": [
        {
          "output_type": "stream",
          "name": "stdout",
          "text": [
            "Collecting openai\n",
            "  Downloading openai-1.35.14-py3-none-any.whl (328 kB)\n",
            "\u001b[?25l     \u001b[90m━━━━━━━━━━━━━━━━━━━━━━━━━━━━━━━━━━━━━━━━\u001b[0m \u001b[32m0.0/328.5 kB\u001b[0m \u001b[31m?\u001b[0m eta \u001b[36m-:--:--\u001b[0m\r\u001b[2K     \u001b[91m━━━━━━━━━━━━━━━━━━━━━━\u001b[0m\u001b[90m╺\u001b[0m\u001b[90m━━━━━━━━━━━━━━━━━\u001b[0m \u001b[32m184.3/328.5 kB\u001b[0m \u001b[31m5.3 MB/s\u001b[0m eta \u001b[36m0:00:01\u001b[0m\r\u001b[2K     \u001b[90m━━━━━━━━━━━━━━━━━━━━━━━━━━━━━━━━━━━━━━━━\u001b[0m \u001b[32m328.5/328.5 kB\u001b[0m \u001b[31m5.2 MB/s\u001b[0m eta \u001b[36m0:00:00\u001b[0m\n",
            "\u001b[?25hRequirement already satisfied: anyio<5,>=3.5.0 in /usr/local/lib/python3.10/dist-packages (from openai) (3.7.1)\n",
            "Requirement already satisfied: distro<2,>=1.7.0 in /usr/lib/python3/dist-packages (from openai) (1.7.0)\n",
            "Collecting httpx<1,>=0.23.0 (from openai)\n",
            "  Downloading httpx-0.27.0-py3-none-any.whl (75 kB)\n",
            "\u001b[2K     \u001b[90m━━━━━━━━━━━━━━━━━━━━━━━━━━━━━━━━━━━━━━━━\u001b[0m \u001b[32m75.6/75.6 kB\u001b[0m \u001b[31m5.0 MB/s\u001b[0m eta \u001b[36m0:00:00\u001b[0m\n",
            "\u001b[?25hRequirement already satisfied: pydantic<3,>=1.9.0 in /usr/local/lib/python3.10/dist-packages (from openai) (2.8.2)\n",
            "Requirement already satisfied: sniffio in /usr/local/lib/python3.10/dist-packages (from openai) (1.3.1)\n",
            "Requirement already satisfied: tqdm>4 in /usr/local/lib/python3.10/dist-packages (from openai) (4.66.4)\n",
            "Requirement already satisfied: typing-extensions<5,>=4.7 in /usr/local/lib/python3.10/dist-packages (from openai) (4.12.2)\n",
            "Requirement already satisfied: idna>=2.8 in /usr/local/lib/python3.10/dist-packages (from anyio<5,>=3.5.0->openai) (3.7)\n",
            "Requirement already satisfied: exceptiongroup; python_version < \"3.11\" in /usr/local/lib/python3.10/dist-packages (from anyio<5,>=3.5.0->openai) (1.2.2)\n",
            "Requirement already satisfied: certifi in /usr/local/lib/python3.10/dist-packages (from httpx<1,>=0.23.0->openai) (2024.7.4)\n",
            "Collecting httpcore==1.* (from httpx<1,>=0.23.0->openai)\n",
            "  Downloading httpcore-1.0.5-py3-none-any.whl (77 kB)\n",
            "\u001b[2K     \u001b[90m━━━━━━━━━━━━━━━━━━━━━━━━━━━━━━━━━━━━━━━━\u001b[0m \u001b[32m77.9/77.9 kB\u001b[0m \u001b[31m5.9 MB/s\u001b[0m eta \u001b[36m0:00:00\u001b[0m\n",
            "\u001b[?25hRequirement already satisfied: annotated-types>=0.4.0 in /usr/local/lib/python3.10/dist-packages (from pydantic<3,>=1.9.0->openai) (0.7.0)\n",
            "Requirement already satisfied: pydantic-core==2.20.1 in /usr/local/lib/python3.10/dist-packages (from pydantic<3,>=1.9.0->openai) (2.20.1)\n",
            "Collecting h11<0.15,>=0.13 (from httpcore==1.*->httpx<1,>=0.23.0->openai)\n",
            "  Downloading h11-0.14.0-py3-none-any.whl (58 kB)\n",
            "\u001b[2K     \u001b[90m━━━━━━━━━━━━━━━━━━━━━━━━━━━━━━━━━━━━━━━━\u001b[0m \u001b[32m58.3/58.3 kB\u001b[0m \u001b[31m8.1 MB/s\u001b[0m eta \u001b[36m0:00:00\u001b[0m\n",
            "\u001b[?25hInstalling collected packages: h11, httpcore, httpx, openai\n",
            "Successfully installed h11-0.14.0 httpcore-1.0.5 httpx-0.27.0 openai-1.35.14\n"
          ]
        }
      ]
    },
    {
      "cell_type": "code",
      "execution_count": null,
      "metadata": {
        "colab": {
          "base_uri": "https://localhost:8080/"
        },
        "id": "zgF5U1GbOxLO",
        "outputId": "6e06db2c-e517-4370-d764-22835fe2501f"
      },
      "outputs": [
        {
          "output_type": "stream",
          "name": "stdout",
          "text": [
            "SyncPage[Model](data=[Model(id='dall-e-3', created=1698785189, object='model', owned_by='system'), Model(id='whisper-1', created=1677532384, object='model', owned_by='openai-internal'), Model(id='gpt-4-0314', created=1687882410, object='model', owned_by='openai'), Model(id='gpt-4-1106-preview', created=1698957206, object='model', owned_by='system'), Model(id='tts-1', created=1681940951, object='model', owned_by='openai-internal'), Model(id='dall-e-2', created=1698798177, object='model', owned_by='system'), Model(id='gpt-4-32k-0314', created=1687979321, object='model', owned_by='openai'), Model(id='tts-1-hd-1106', created=1699053533, object='model', owned_by='system'), Model(id='tts-1-hd', created=1699046015, object='model', owned_by='system'), Model(id='gpt-4-turbo-2024-04-09', created=1712601677, object='model', owned_by='system'), Model(id='gpt-4-turbo-preview', created=1706037777, object='model', owned_by='system'), Model(id='gpt-4-turbo', created=1712361441, object='model', owned_by='system'), Model(id='gpt-4-0613', created=1686588896, object='model', owned_by='openai'), Model(id='gpt-4-vision-preview', created=1698894917, object='model', owned_by='system'), Model(id='gpt-4', created=1687882411, object='model', owned_by='openai'), Model(id='gpt-4o-2024-05-13', created=1715368132, object='model', owned_by='system'), Model(id='gpt-4-1106-vision-preview', created=1711473033, object='model', owned_by='system'), Model(id='text-embedding-3-small', created=1705948997, object='model', owned_by='system'), Model(id='text-embedding-3-large', created=1705953180, object='model', owned_by='system'), Model(id='babbage-002', created=1692634615, object='model', owned_by='system'), Model(id='tts-1-1106', created=1699053241, object='model', owned_by='system'), Model(id='gpt-3.5-turbo', created=1677610602, object='model', owned_by='openai'), Model(id='gpt-3.5-turbo-instruct', created=1692901427, object='model', owned_by='system'), Model(id='gpt-3.5-turbo-instruct-0914', created=1694122472, object='model', owned_by='system'), Model(id='gpt-4-0125-preview', created=1706037612, object='model', owned_by='system'), Model(id='text-embedding-ada-002', created=1671217299, object='model', owned_by='openai-internal'), Model(id='gpt-3.5-turbo-16k', created=1683758102, object='model', owned_by='openai-internal'), Model(id='davinci-002', created=1692634301, object='model', owned_by='system'), Model(id='gpt-3.5-turbo-0125', created=1706048358, object='model', owned_by='system'), Model(id='gpt-3.5-turbo-1106', created=1698959748, object='model', owned_by='system'), Model(id='gpt-4o', created=1715367049, object='model', owned_by='system'), Model(id='ft:davinci-002:personal::9NCdpba7:ckpt-step-45', created=1715317166, object='model', owned_by='user-3mb7zjn5d3yrxtanmc1j7sxp'), Model(id='ft:davinci-002:personal::9NCdqOyI:ckpt-step-48', created=1715317166, object='model', owned_by='user-3mb7zjn5d3yrxtanmc1j7sxp'), Model(id='ft:davinci-002:personal::9NCdqlun', created=1715317166, object='model', owned_by='user-3mb7zjn5d3yrxtanmc1j7sxp'), Model(id='ft:davinci-002:personal::9L98xY9R:ckpt-step-45', created=1714827063, object='model', owned_by='user-3mb7zjn5d3yrxtanmc1j7sxp'), Model(id='ft:davinci-002:personal::9L98xoHC:ckpt-step-48', created=1714827064, object='model', owned_by='user-3mb7zjn5d3yrxtanmc1j7sxp'), Model(id='ft:davinci-002:personal::9L98yiiU', created=1714827064, object='model', owned_by='user-3mb7zjn5d3yrxtanmc1j7sxp'), Model(id='ft:davinci-002:personal::9McaBYHk:ckpt-step-48', created=1715178556, object='model', owned_by='user-3mb7zjn5d3yrxtanmc1j7sxp'), Model(id='ft:davinci-002:personal::9McaB9re:ckpt-step-45', created=1715178555, object='model', owned_by='user-3mb7zjn5d3yrxtanmc1j7sxp'), Model(id='ft:davinci-002:personal::9McaCgHL', created=1715178556, object='model', owned_by='user-3mb7zjn5d3yrxtanmc1j7sxp')], object='list')\n"
          ]
        }
      ],
      "source": [
        "import openai\n",
        "from openai import OpenAI\n",
        "api_key = \"\"\n",
        "\n",
        "client = openai.OpenAI(api_key=api_key)\n",
        "models = client.models.list()\n"
      ]
    },
    {
      "cell_type": "code",
      "source": [
        "print(models,end=\" \")"
      ],
      "metadata": {
        "colab": {
          "base_uri": "https://localhost:8080/"
        },
        "id": "_3HffCHASMHK",
        "outputId": "8f12b697-f574-4736-cdf6-1fc7097b732a"
      },
      "execution_count": null,
      "outputs": [
        {
          "output_type": "stream",
          "name": "stdout",
          "text": [
            "SyncPage[Model](data=[Model(id='dall-e-3', created=1698785189, object='model', owned_by='system'), Model(id='whisper-1', created=1677532384, object='model', owned_by='openai-internal'), Model(id='gpt-4-0314', created=1687882410, object='model', owned_by='openai'), Model(id='gpt-4-1106-preview', created=1698957206, object='model', owned_by='system'), Model(id='tts-1', created=1681940951, object='model', owned_by='openai-internal'), Model(id='dall-e-2', created=1698798177, object='model', owned_by='system'), Model(id='gpt-4-32k-0314', created=1687979321, object='model', owned_by='openai'), Model(id='tts-1-hd-1106', created=1699053533, object='model', owned_by='system'), Model(id='tts-1-hd', created=1699046015, object='model', owned_by='system'), Model(id='gpt-4-turbo-2024-04-09', created=1712601677, object='model', owned_by='system'), Model(id='gpt-4-turbo-preview', created=1706037777, object='model', owned_by='system'), Model(id='gpt-4-turbo', created=1712361441, object='model', owned_by='system'), Model(id='gpt-4-0613', created=1686588896, object='model', owned_by='openai'), Model(id='gpt-4-vision-preview', created=1698894917, object='model', owned_by='system'), Model(id='gpt-4', created=1687882411, object='model', owned_by='openai'), Model(id='gpt-4o-2024-05-13', created=1715368132, object='model', owned_by='system'), Model(id='gpt-4-1106-vision-preview', created=1711473033, object='model', owned_by='system'), Model(id='text-embedding-3-small', created=1705948997, object='model', owned_by='system'), Model(id='text-embedding-3-large', created=1705953180, object='model', owned_by='system'), Model(id='babbage-002', created=1692634615, object='model', owned_by='system'), Model(id='tts-1-1106', created=1699053241, object='model', owned_by='system'), Model(id='gpt-3.5-turbo', created=1677610602, object='model', owned_by='openai'), Model(id='gpt-3.5-turbo-instruct', created=1692901427, object='model', owned_by='system'), Model(id='gpt-3.5-turbo-instruct-0914', created=1694122472, object='model', owned_by='system'), Model(id='gpt-4-0125-preview', created=1706037612, object='model', owned_by='system'), Model(id='text-embedding-ada-002', created=1671217299, object='model', owned_by='openai-internal'), Model(id='gpt-3.5-turbo-16k', created=1683758102, object='model', owned_by='openai-internal'), Model(id='davinci-002', created=1692634301, object='model', owned_by='system'), Model(id='gpt-3.5-turbo-0125', created=1706048358, object='model', owned_by='system'), Model(id='gpt-3.5-turbo-1106', created=1698959748, object='model', owned_by='system'), Model(id='gpt-4o', created=1715367049, object='model', owned_by='system'), Model(id='ft:davinci-002:personal::9NCdpba7:ckpt-step-45', created=1715317166, object='model', owned_by='user-3mb7zjn5d3yrxtanmc1j7sxp'), Model(id='ft:davinci-002:personal::9NCdqOyI:ckpt-step-48', created=1715317166, object='model', owned_by='user-3mb7zjn5d3yrxtanmc1j7sxp'), Model(id='ft:davinci-002:personal::9NCdqlun', created=1715317166, object='model', owned_by='user-3mb7zjn5d3yrxtanmc1j7sxp'), Model(id='ft:davinci-002:personal::9L98xY9R:ckpt-step-45', created=1714827063, object='model', owned_by='user-3mb7zjn5d3yrxtanmc1j7sxp'), Model(id='ft:davinci-002:personal::9L98xoHC:ckpt-step-48', created=1714827064, object='model', owned_by='user-3mb7zjn5d3yrxtanmc1j7sxp'), Model(id='ft:davinci-002:personal::9L98yiiU', created=1714827064, object='model', owned_by='user-3mb7zjn5d3yrxtanmc1j7sxp'), Model(id='ft:davinci-002:personal::9McaBYHk:ckpt-step-48', created=1715178556, object='model', owned_by='user-3mb7zjn5d3yrxtanmc1j7sxp'), Model(id='ft:davinci-002:personal::9McaB9re:ckpt-step-45', created=1715178555, object='model', owned_by='user-3mb7zjn5d3yrxtanmc1j7sxp'), Model(id='ft:davinci-002:personal::9McaCgHL', created=1715178556, object='model', owned_by='user-3mb7zjn5d3yrxtanmc1j7sxp')], object='list') "
          ]
        }
      ]
    },
    {
      "cell_type": "code",
      "source": [
        "for model in models:\n",
        "    print(model)"
      ],
      "metadata": {
        "colab": {
          "base_uri": "https://localhost:8080/"
        },
        "id": "QIGOTOUqTEGa",
        "outputId": "ccedfa50-600c-434f-ae9b-35d6066c6ba7"
      },
      "execution_count": null,
      "outputs": [
        {
          "output_type": "stream",
          "name": "stdout",
          "text": [
            "Model(id='dall-e-3', created=1698785189, object='model', owned_by='system')\n",
            "Model(id='whisper-1', created=1677532384, object='model', owned_by='openai-internal')\n",
            "Model(id='gpt-4-0314', created=1687882410, object='model', owned_by='openai')\n",
            "Model(id='gpt-4-1106-preview', created=1698957206, object='model', owned_by='system')\n",
            "Model(id='tts-1', created=1681940951, object='model', owned_by='openai-internal')\n",
            "Model(id='dall-e-2', created=1698798177, object='model', owned_by='system')\n",
            "Model(id='gpt-4-32k-0314', created=1687979321, object='model', owned_by='openai')\n",
            "Model(id='tts-1-hd-1106', created=1699053533, object='model', owned_by='system')\n",
            "Model(id='tts-1-hd', created=1699046015, object='model', owned_by='system')\n",
            "Model(id='gpt-4-turbo-2024-04-09', created=1712601677, object='model', owned_by='system')\n",
            "Model(id='gpt-4-turbo-preview', created=1706037777, object='model', owned_by='system')\n",
            "Model(id='gpt-4-turbo', created=1712361441, object='model', owned_by='system')\n",
            "Model(id='gpt-4-0613', created=1686588896, object='model', owned_by='openai')\n",
            "Model(id='gpt-4-vision-preview', created=1698894917, object='model', owned_by='system')\n",
            "Model(id='gpt-4', created=1687882411, object='model', owned_by='openai')\n",
            "Model(id='gpt-4o-2024-05-13', created=1715368132, object='model', owned_by='system')\n",
            "Model(id='gpt-4-1106-vision-preview', created=1711473033, object='model', owned_by='system')\n",
            "Model(id='text-embedding-3-small', created=1705948997, object='model', owned_by='system')\n",
            "Model(id='text-embedding-3-large', created=1705953180, object='model', owned_by='system')\n",
            "Model(id='babbage-002', created=1692634615, object='model', owned_by='system')\n",
            "Model(id='tts-1-1106', created=1699053241, object='model', owned_by='system')\n",
            "Model(id='gpt-3.5-turbo', created=1677610602, object='model', owned_by='openai')\n",
            "Model(id='gpt-3.5-turbo-instruct', created=1692901427, object='model', owned_by='system')\n",
            "Model(id='gpt-3.5-turbo-instruct-0914', created=1694122472, object='model', owned_by='system')\n",
            "Model(id='gpt-4-0125-preview', created=1706037612, object='model', owned_by='system')\n",
            "Model(id='text-embedding-ada-002', created=1671217299, object='model', owned_by='openai-internal')\n",
            "Model(id='gpt-3.5-turbo-16k', created=1683758102, object='model', owned_by='openai-internal')\n",
            "Model(id='davinci-002', created=1692634301, object='model', owned_by='system')\n",
            "Model(id='gpt-3.5-turbo-0125', created=1706048358, object='model', owned_by='system')\n",
            "Model(id='gpt-3.5-turbo-1106', created=1698959748, object='model', owned_by='system')\n",
            "Model(id='gpt-4o', created=1715367049, object='model', owned_by='system')\n",
            "Model(id='ft:davinci-002:personal::9NCdpba7:ckpt-step-45', created=1715317166, object='model', owned_by='user-3mb7zjn5d3yrxtanmc1j7sxp')\n",
            "Model(id='ft:davinci-002:personal::9NCdqOyI:ckpt-step-48', created=1715317166, object='model', owned_by='user-3mb7zjn5d3yrxtanmc1j7sxp')\n",
            "Model(id='ft:davinci-002:personal::9NCdqlun', created=1715317166, object='model', owned_by='user-3mb7zjn5d3yrxtanmc1j7sxp')\n",
            "Model(id='ft:davinci-002:personal::9L98xY9R:ckpt-step-45', created=1714827063, object='model', owned_by='user-3mb7zjn5d3yrxtanmc1j7sxp')\n",
            "Model(id='ft:davinci-002:personal::9L98xoHC:ckpt-step-48', created=1714827064, object='model', owned_by='user-3mb7zjn5d3yrxtanmc1j7sxp')\n",
            "Model(id='ft:davinci-002:personal::9L98yiiU', created=1714827064, object='model', owned_by='user-3mb7zjn5d3yrxtanmc1j7sxp')\n",
            "Model(id='ft:davinci-002:personal::9McaBYHk:ckpt-step-48', created=1715178556, object='model', owned_by='user-3mb7zjn5d3yrxtanmc1j7sxp')\n",
            "Model(id='ft:davinci-002:personal::9McaB9re:ckpt-step-45', created=1715178555, object='model', owned_by='user-3mb7zjn5d3yrxtanmc1j7sxp')\n",
            "Model(id='ft:davinci-002:personal::9McaCgHL', created=1715178556, object='model', owned_by='user-3mb7zjn5d3yrxtanmc1j7sxp')\n"
          ]
        }
      ]
    }
  ]
}